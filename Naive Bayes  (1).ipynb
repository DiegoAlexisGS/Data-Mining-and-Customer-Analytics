{
 "cells": [
  {
   "cell_type": "code",
   "execution_count": 1,
   "metadata": {},
   "outputs": [],
   "source": [
    "import numpy as np\n",
    "import matplotlib.pyplot as plt\n",
    "import pandas as pd\n",
    "import seaborn as sns"
   ]
  },
  {
   "cell_type": "code",
   "execution_count": 2,
   "metadata": {},
   "outputs": [],
   "source": [
    "sns.set_style(\"whitegrid\")"
   ]
  },
  {
   "cell_type": "code",
   "execution_count": 3,
   "metadata": {},
   "outputs": [],
   "source": [
    "df=pd.read_csv(r\"\",converters={'':str})"
   ]
  },
  {
   "cell_type": "code",
   "execution_count": 1,
   "metadata": {},
   "outputs": [],
   "source": [
    "df"
   ]
  },
  {
   "cell_type": "code",
   "execution_count": 2,
   "metadata": {},
   "outputs": [],
   "source": [
    "df.columns=[]"
   ]
  },
  {
   "cell_type": "code",
   "execution_count": 3,
   "metadata": {},
   "outputs": [],
   "source": [
    "df.shape"
   ]
  },
  {
   "cell_type": "code",
   "execution_count": 7,
   "metadata": {
    "scrolled": true
   },
   "outputs": [],
   "source": [
    "#Preprocessing\n",
    "#1) Delete blank spaces\n",
    "df['']=df[''].apply( lambda x: x.strip() if isinstance(x, str) else x )\n",
    "df['']=df[''].apply( lambda x: x.strip() if isinstance(x, str) else x )\n",
    "df['']=df[''].apply( lambda x: x.strip() if isinstance(x, str) else x )\n",
    "#2) Capital letters\n",
    "df['']=df[''].apply( lambda x: x.upper() if isinstance(x, str) else x )\n",
    "df['']=df[''].apply( lambda x: x.upper() if isinstance(x, str) else x )\n",
    "df['']=df[''].apply( lambda x: x.upper() if isinstance(x, str) else x )"
   ]
  },
  {
   "cell_type": "code",
   "execution_count": 4,
   "metadata": {},
   "outputs": [],
   "source": [
    "base=list(df[''].unique())+list(df[''].unique())+list(df[''].unique())\n",
    "base=list(set(base))\n",
    "base=pd.DataFrame(base,columns=['Cadena'])\n",
    "base.head()"
   ]
  },
  {
   "cell_type": "markdown",
   "metadata": {},
   "source": [
    "## Counting of appearence"
   ]
  },
  {
   "cell_type": "code",
   "execution_count": 9,
   "metadata": {},
   "outputs": [],
   "source": [
    "#Counting of lastnames and firstnames\n",
    "lastname=df.groupby('').nunique().sort_values('').reset_index()[['','']]\n",
    "lastnamf=df.groupby('').nunique().sort_values('').reset_index()[['','']]\n",
    "names=df.groupby('').nunique().sort_values('').reset_index()[['','']]"
   ]
  },
  {
   "cell_type": "code",
   "execution_count": 5,
   "metadata": {},
   "outputs": [],
   "source": [
    "lastname.head(13436)"
   ]
  },
  {
   "cell_type": "code",
   "execution_count": 11,
   "metadata": {},
   "outputs": [],
   "source": [
    "#Rename columns\n",
    "lastname.columns=['','']\n",
    "lastnamf.columns=['','']\n",
    "names.columns=['','']"
   ]
  },
  {
   "cell_type": "markdown",
   "metadata": {},
   "source": [
    "## Frequency of appearence"
   ]
  },
  {
   "cell_type": "code",
   "execution_count": 7,
   "metadata": {},
   "outputs": [],
   "source": [
    "lastname['']=lastname['']/lastname[''].sum()\n",
    "lastnamf['']=lastnamf['']/lastnamf[''].sum()\n",
    "names['']=names['']/names[''].sum()"
   ]
  },
  {
   "cell_type": "markdown",
   "metadata": {},
   "source": [
    "## Apriori probability of being a name or last name"
   ]
  },
  {
   "cell_type": "code",
   "execution_count": 13,
   "metadata": {},
   "outputs": [],
   "source": [
    "#Merging counts for every name\n",
    "base=pd.merge(base,lastname[['','','']],how='left',left_on='Cadena',right_on='')\n",
    "base=pd.merge(base,lastnamf[['','','']],how='left',left_on='Cadena',right_on='')\n",
    "base=pd.merge(base,names[['','','']],how='left',left_on='Cadena',right_on='')"
   ]
  },
  {
   "cell_type": "code",
   "execution_count": 8,
   "metadata": {},
   "outputs": [],
   "source": [
    "base.fillna(0,inplace=True)\n",
    "base"
   ]
  },
  {
   "cell_type": "code",
   "execution_count": null,
   "metadata": {},
   "outputs": [],
   "source": [
    "#Counting names\n",
    "base=base[[]].copy()\n",
    "base['']=base['']+base['']\n",
    "base.head()"
   ]
  },
  {
   "cell_type": "code",
   "execution_count": 16,
   "metadata": {},
   "outputs": [],
   "source": [
    "base.fillna(0,inplace=True)"
   ]
  },
  {
   "cell_type": "code",
   "execution_count": 17,
   "metadata": {},
   "outputs": [],
   "source": [
    "base['proba_firstname']=base['']/(base['']+base['']+base[''])\n",
    "base['proba_lastname']=(base['']+base[''])/(base['']+base['']+base[''])"
   ]
  },
  {
   "cell_type": "code",
   "execution_count": null,
   "metadata": {},
   "outputs": [],
   "source": [
    "base.loc[(base['']+base['']+base['']<5) & ((base['']+base['']+base['']>0) ), ''] = 0.5\n",
    "base.loc[(base['']+base['']+base['']<5) & ((base['']+base['']+base['']>0) ), ''] = 0.5"
   ]
  },
  {
   "cell_type": "code",
   "execution_count": 9,
   "metadata": {
    "scrolled": true
   },
   "outputs": [],
   "source": [
    "base"
   ]
  },
  {
   "cell_type": "code",
   "execution_count": 20,
   "metadata": {},
   "outputs": [],
   "source": [
    "base.fillna(0,inplace=True)"
   ]
  },
  {
   "cell_type": "code",
   "execution_count": 21,
   "metadata": {},
   "outputs": [],
   "source": [
    "final=base[[]]"
   ]
  },
  {
   "cell_type": "markdown",
   "metadata": {},
   "source": [
    "## We calculate our probability"
   ]
  },
  {
   "cell_type": "code",
   "execution_count": 10,
   "metadata": {},
   "outputs": [],
   "source": [
    "df[''].loc[0]"
   ]
  },
  {
   "cell_type": "code",
   "execution_count": 13,
   "metadata": {},
   "outputs": [],
   "source": [
    "final[final['']=='']"
   ]
  },
  {
   "cell_type": "code",
   "execution_count": 14,
   "metadata": {
    "scrolled": true
   },
   "outputs": [],
   "source": [
    "#final[final['Cadena']==df[''].loc[0]]"
   ]
  },
  {
   "cell_type": "code",
   "execution_count": 24,
   "metadata": {
    "scrolled": false
   },
   "outputs": [],
   "source": [
    "subfinal=pd.merge(df,final[[]],how='left',left_on='',right_on='Cadena').copy()\n",
    "subfinal=pd.merge(subfinal,final[[]],how='left',left_on='',right_on='Cadena').copy()\n",
    "subfinal=pd.merge(subfinal,final[[]],how='left',left_on='',right_on='Cadena')"
   ]
  },
  {
   "cell_type": "code",
   "execution_count": 15,
   "metadata": {
    "scrolled": false
   },
   "outputs": [],
   "source": [
    "#subfinal.head(5)"
   ]
  },
  {
   "cell_type": "code",
   "execution_count": 27,
   "metadata": {
    "scrolled": true
   },
   "outputs": [
    {
     "data": {
      "text/plain": [
       "Index(['cve', 'nom', 'ApPaterno', 'ApMaterno', 'Nombres', 'Status', 'Cadena_x',\n",
       "       'proba_firstname_x', 'proba_lastname_x', 'Cadena_y',\n",
       "       'proba_firstname_y', 'proba_lastname_y', 'Cadena', 'proba_firstname',\n",
       "       'proba_lastname'],\n",
       "      dtype='object')"
      ]
     },
     "execution_count": 27,
     "metadata": {},
     "output_type": "execute_result"
    }
   ],
   "source": [
    "#subfinal.columns"
   ]
  },
  {
   "cell_type": "code",
   "execution_count": 16,
   "metadata": {},
   "outputs": [],
   "source": [
    "subfinal.columns=[]"
   ]
  },
  {
   "cell_type": "markdown",
   "metadata": {},
   "source": [
    "## We use"
   ]
  },
  {
   "cell_type": "markdown",
   "metadata": {},
   "source": [
    "$P$($C$|$A$,$B$) $\\approx$ $P$($A$|$C$)*$P$($B$|$C$)*$P$($C$)\n",
    "\n",
    "Given that $P$($C$)$=1$ "
   ]
  },
  {
   "cell_type": "code",
   "execution_count": 29,
   "metadata": {},
   "outputs": [],
   "source": [
    "subfinal['']=subfinal['']*subfinal['']"
   ]
  },
  {
   "cell_type": "code",
   "execution_count": 17,
   "metadata": {
    "scrolled": true
   },
   "outputs": [],
   "source": [
    "subfinal"
   ]
  },
  {
   "cell_type": "code",
   "execution_count": 33,
   "metadata": {},
   "outputs": [
    {
     "data": {
      "image/png": "[encoded data removed]",
      "text/plain": [
       "<Figure size 432x288 with 1 Axes>"
      ]
     },
     "metadata": {},
     "output_type": "display_data"
    }
   ],
   "source": [
    "plt.hist(subfinal[''],bins=100)\n",
    "plt.show()"
   ]
  },
  {
   "cell_type": "code",
   "execution_count": 18,
   "metadata": {
    "scrolled": true
   },
   "outputs": [],
   "source": [
    "#subfinal[subfinal['']<0.05][:50]"
   ]
  },
  {
   "cell_type": "code",
   "execution_count": 36,
   "metadata": {},
   "outputs": [],
   "source": [
    "val=[]\n",
    "for i in np.linspace(0,1,101):\n",
    "    val.append(len(subfinal[subfinal['']<i][''].unique())/(len(subfinal)))"
   ]
  },
  {
   "cell_type": "code",
   "execution_count": 37,
   "metadata": {},
   "outputs": [
    {
     "data": {
      "image/png": "[encoded data removed]",
      "text/plain": [
       "<Figure size 1080x720 with 1 Axes>"
      ]
     },
     "metadata": {},
     "output_type": "display_data"
    }
   ],
   "source": [
    "fig, ax = plt.subplots(figsize=(15,10))\n",
    "\n",
    "ax.plot(np.linspace(0,1,101),val)#,title='Observaciones bajo threshold')\n",
    "ax.plot(np.linspace(0,1,101),[0.5]*101)\n",
    "ax.plot([0.5]*101,np.linspace(0,1,101))\n",
    "ax.set_title('Observaciones bajo el threshold')\n",
    "ax.set(xlabel='P(Correct|Name,Lastname)', ylabel='%Obs. below threshols')\n",
    "plt.show()"
   ]
  },
  {
   "cell_type": "markdown",
   "metadata": {},
   "source": [
    "# Labeling"
   ]
  },
  {
   "cell_type": "code",
   "execution_count": 38,
   "metadata": {},
   "outputs": [],
   "source": [
    "subfinal['label']=subfinal[''].apply(lambda x: \"Incorrect\" if x<0.02 else \"Correct\")"
   ]
  },
  {
   "cell_type": "code",
   "execution_count": 19,
   "metadata": {
    "scrolled": true
   },
   "outputs": [],
   "source": [
    "subfinal[subfinal['label']=='Incorrect'][100:150]"
   ]
  },
  {
   "cell_type": "markdown",
   "metadata": {},
   "source": [
    "## Update of our table"
   ]
  },
  {
   "cell_type": "markdown",
   "metadata": {},
   "source": [
    "# Correction"
   ]
  },
  {
   "cell_type": "code",
   "execution_count": 71,
   "metadata": {},
   "outputs": [],
   "source": [
    "corr=subfinal[subfinal['label']=='Incorrect'].copy().reset_index()"
   ]
  },
  {
   "cell_type": "code",
   "execution_count": 20,
   "metadata": {},
   "outputs": [],
   "source": [
    "corr.head(5)"
   ]
  },
  {
   "cell_type": "code",
   "execution_count": 74,
   "metadata": {},
   "outputs": [],
   "source": [
    "#Correction\n",
    "names,appaterno,apmaterno=[],[],[]\n",
    "for i in range(len(corr)):\n",
    "    names.append(corr.loc[i][''])\n",
    "    appaterno.append(corr.loc[i][''])\n",
    "    apmaterno.append(corr.loc[i][''])"
   ]
  },
  {
   "cell_type": "code",
   "execution_count": 75,
   "metadata": {},
   "outputs": [],
   "source": [
    "corregido=pd.DataFrame(names)\n",
    "corregido.columns=['']\n",
    "corregido['']=appaterno\n",
    "corregido['']=apmaterno"
   ]
  },
  {
   "cell_type": "code",
   "execution_count": 76,
   "metadata": {},
   "outputs": [],
   "source": [
    "corregido['']=corr['']"
   ]
  },
  {
   "cell_type": "code",
   "execution_count": 21,
   "metadata": {},
   "outputs": [],
   "source": [
    "corregido.columns"
   ]
  },
  {
   "cell_type": "code",
   "execution_count": 78,
   "metadata": {},
   "outputs": [],
   "source": [
    "corregido.columns=[]"
   ]
  },
  {
   "cell_type": "code",
   "execution_count": 22,
   "metadata": {},
   "outputs": [],
   "source": [
    "corregido.shape"
   ]
  },
  {
   "cell_type": "code",
   "execution_count": 23,
   "metadata": {
    "scrolled": true
   },
   "outputs": [],
   "source": [
    "corr"
   ]
  },
  {
   "cell_type": "code",
   "execution_count": 84,
   "metadata": {},
   "outputs": [],
   "source": [
    "corregido['']=corr['']\n",
    "corregido['']=corr['']\n",
    "corregido['']=corr['']"
   ]
  },
  {
   "cell_type": "code",
   "execution_count": 24,
   "metadata": {
    "scrolled": true
   },
   "outputs": [],
   "source": [
    "corregido"
   ]
  },
  {
   "cell_type": "code",
   "execution_count": 25,
   "metadata": {},
   "outputs": [],
   "source": [
    "corregido.to_excel(r\"\")"
   ]
  },
  {
   "cell_type": "markdown",
   "metadata": {},
   "source": [
    "## Llenados de Vacios"
   ]
  },
  {
   "cell_type": "code",
   "execution_count": 26,
   "metadata": {},
   "outputs": [],
   "source": [
    "empty=pd.read_excel(r\"\",converters={'cve':str})"
   ]
  },
  {
   "cell_type": "code",
   "execution_count": 27,
   "metadata": {},
   "outputs": [],
   "source": [
    "empty.head(10)"
   ]
  },
  {
   "cell_type": "code",
   "execution_count": 28,
   "metadata": {},
   "outputs": [],
   "source": [
    "empty.shape"
   ]
  },
  {
   "cell_type": "code",
   "execution_count": 183,
   "metadata": {},
   "outputs": [],
   "source": [
    "nombres_test=list(empty[''].apply(lambda x : x.strip().upper().split(' ')))"
   ]
  },
  {
   "cell_type": "code",
   "execution_count": 213,
   "metadata": {},
   "outputs": [],
   "source": [
    "nombres=nombres_test.copy()"
   ]
  },
  {
   "cell_type": "code",
   "execution_count": null,
   "metadata": {},
   "outputs": [],
   "source": []
  },
  {
   "cell_type": "code",
   "execution_count": null,
   "metadata": {},
   "outputs": [],
   "source": []
  },
  {
   "cell_type": "code",
   "execution_count": null,
   "metadata": {},
   "outputs": [],
   "source": [
    "nomb,apellidoP,apellidoM=[],[],[]\n",
    "import time\n",
    "start=time.time()\n",
    "for i in range(len(nombres)):\n",
    "    if len(base[base['Cadena']==nombres[i][0]])!=0:\n",
    "        if len(nombres[i])==3:\n",
    "\n",
    "            if list(base[base['Cadena']==nombres[i][0]]['proba_firstname']>base[base['Cadena']==nombres[i][0]]['proba_lastname'])[0]:\n",
    "                nomb.append(nombres[i][0])\n",
    "                apellidoP.append(nombres[i][1])\n",
    "                apellidoM.append(nombres[i][2])\n",
    "            else:\n",
    "                nomb.append(nombres[i][2])\n",
    "                apellidoP.append(nombres[i][0])\n",
    "                apellidoM.append(nombres[i][1])\n",
    "        if len(nombres[i])==4:\n",
    "            if list(base[base['Cadena']==nombres[i][0]]['proba_firstname']>base[base['Cadena']==nombres[i][0]]['proba_lastname'])[0]:\n",
    "                nomb.append(nombres[i][0]+' '+nombres[i][1])\n",
    "                apellidoP.append(nombres[i][2])\n",
    "                apellidoM.append(nombres[i][3])\n",
    "            else:\n",
    "                nomb.append(nombres[i][2]+' '+nombres[i][3])\n",
    "                apellidoP.append(nombres[i][0])\n",
    "                apellidoM.append(nombres[i][1])\n",
    "\n",
    "        if (len(nombres[i])>4) | (len(nombres[i])<3):\n",
    "            nomb.append('')\n",
    "            apellidoP.append('')\n",
    "            apellidoM.append('')\n",
    "        if i%1000==0:\n",
    "            print(i,\" \",time.time()-start)\n",
    "    else:\n",
    "        nomb.append('')\n",
    "        apellidoP.append('')\n",
    "        apellidoM.append('')\n",
    "print(time.time()-start)"
   ]
  },
  {
   "cell_type": "code",
   "execution_count": 227,
   "metadata": {},
   "outputs": [],
   "source": [
    "new=pd.DataFrame(nomb)"
   ]
  },
  {
   "cell_type": "code",
   "execution_count": 230,
   "metadata": {},
   "outputs": [],
   "source": [
    "new.columns=['']\n",
    "new['']=apellidoP\n",
    "new['']=apellidoM"
   ]
  },
  {
   "cell_type": "code",
   "execution_count": 233,
   "metadata": {
    "scrolled": false
   },
   "outputs": [],
   "source": [
    "new['']=empty['']\n",
    "new['']=empty['']"
   ]
  },
  {
   "cell_type": "code",
   "execution_count": 29,
   "metadata": {},
   "outputs": [],
   "source": [
    "new[new['']!='']"
   ]
  }
 ],
 "metadata": {
  "kernelspec": {
   "display_name": "Python 3",
   "language": "python",
   "name": "python3"
  },
  "language_info": {
   "codemirror_mode": {
    "name": "ipython",
    "version": 3
   },
   "file_extension": ".py",
   "mimetype": "text/x-python",
   "name": "python",
   "nbconvert_exporter": "python",
   "pygments_lexer": "ipython3",
   "version": "3.8.8"
  }
 },
 "nbformat": 4,
 "nbformat_minor": 4
}
