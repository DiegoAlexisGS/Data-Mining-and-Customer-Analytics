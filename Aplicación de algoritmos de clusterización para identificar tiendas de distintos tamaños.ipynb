{
 "cells": [
  {
   "cell_type": "markdown",
   "metadata": {},
   "source": [
    "# Análisis de tamaño de tienda"
   ]
  },
  {
   "cell_type": "code",
   "execution_count": 602,
   "metadata": {},
   "outputs": [],
   "source": [
    "#Librerias utilizadas para este análisis\n",
    "\n",
    "import numpy as np\n",
    "import pandas as pd\n",
    "import matplotlib.pyplot as plt\n",
    "from sklearn.cluster import KMeans\n",
    "from sklearn.metrics import silhouette_samples,silhouette_score\n",
    "from sklearn.cluster import DBSCAN\n",
    "from sklearn.cluster import AgglomerativeClustering\n",
    "import scipy.cluster.hierarchy as sch\n",
    "from sklearn.metrics import silhouette_score \n",
    "\n",
    "%matplotlib inline"
   ]
  },
  {
   "cell_type": "code",
   "execution_count": 603,
   "metadata": {},
   "outputs": [],
   "source": [
    "df=pd.read_excel(r\"\",encoding='latin1') #Carga del archivo excel con los datos generales"
   ]
  },
  {
   "cell_type": "code",
   "execution_count": 1,
   "metadata": {},
   "outputs": [],
   "source": [
    "df #Vemos que traen los datos"
   ]
  },
  {
   "cell_type": "code",
   "execution_count": 2,
   "metadata": {},
   "outputs": [],
   "source": [
    "df.columns #Observamos los nombres de columnas"
   ]
  },
  {
   "cell_type": "code",
   "execution_count": 606,
   "metadata": {},
   "outputs": [
    {
     "name": "stdout",
     "output_type": "stream",
     "text": [
      "MinMaxScaler(copy=True, feature_range=(0, 1))\n"
     ]
    }
   ],
   "source": [
    "#df2=df[['Etiquetas de fila', 'Cuenta de cve', 'Cuenta de ID_Cte',\n",
    "#       'Promedio de refri_torre', 'Promedio de refri_vit',\n",
    "#       'Promedio de vitrina', 'Promedio de pared', 'Promedio de pasillo']]\n",
    "\n",
    "#Escogemos solo las columnas que nos son útiles\n",
    "df2=df[[]]\n",
    "\n",
    "#Importamos las sigueintes librerias para la transformación de datos\n",
    "\n",
    "from sklearn.preprocessing import MinMaxScaler\n",
    "from sklearn import preprocessing\n",
    "scaler = MinMaxScaler()\n",
    "print(scaler.fit(df2))\n",
    "\n",
    "#Transformamos los datos. La transformación aplicada es Min-Max scaler\n",
    "new=pd.DataFrame(scaler.transform(df2))\n",
    "#new=pd.DataFrame(preprocessing.scale(df2))\n",
    "new.columns=df2.columns"
   ]
  },
  {
   "cell_type": "code",
   "execution_count": 3,
   "metadata": {
    "scrolled": true
   },
   "outputs": [],
   "source": [
    "new #Vemos como quedo el dataset"
   ]
  },
  {
   "cell_type": "code",
   "execution_count": null,
   "metadata": {},
   "outputs": [],
   "source": [
    "X=new[[i for i in new.columns if i not in []]]\n",
    "for i in range(2,17):\n",
    "    model_aux=AgglomerativeClustering(n_clusters=i, affinity='euclidean', linkage='ward')\n",
    "    model_aux.fit(X)\n",
    "    labelsaux = model_aux.labels_\n",
    "    print(i,\" \",silhouette_score(X, labelsaux, metric='euclidean', sample_size=None, random_state=None))\n",
    "\n",
    "for i in range(2,17):\n",
    "    model_aux=KMeans(n_clusters=3).fit_predict(X)\n",
    "    print(i,\" \",silhouette_score(X, model_aux, metric='euclidean', sample_size=None, random_state=None))"
   ]
  },
  {
   "cell_type": "code",
   "execution_count": 579,
   "metadata": {},
   "outputs": [],
   "source": [
    "#importamos un algoritmo de clusterización. En este proceso aplicamos dos algoritmos uno detras del otro.\n",
    "\n",
    "X=new[[i for i in new.columns if i not in []]]\n",
    "model = AgglomerativeClustering(n_clusters=3, affinity='euclidean', linkage='ward') #Primer algoritmo\n",
    "model.fit(X)\n",
    "labels = model.labels_ \n",
    "new[\"Label\"]=labels \n",
    "X[\"Label\"]=labels #Agregamos las primeras etiquetas\n",
    "\n",
    "\n",
    "kmeans=KMeans(n_clusters=3).fit_predict(X) #Segundo algoritmo\n",
    "new[\"Labelk\"]=kmeans #Etiquetas finales\n",
    "\n"
   ]
  },
  {
   "cell_type": "code",
   "execution_count": 580,
   "metadata": {},
   "outputs": [],
   "source": [
    "#Agregamos las etiquetas al dataset principal final\n",
    "df[\"label\"]=new[\"Label\"]\n",
    "df[\"labelk\"]=new[\"Labelk\"] "
   ]
  },
  {
   "cell_type": "code",
   "execution_count": 581,
   "metadata": {},
   "outputs": [],
   "source": [
    "pd.set_option('display.max_columns', 100)\n",
    "pd.set_option('display.max_rows', 500)\n",
    "\n",
    "#Agrupamos por etiqueta y score para observar su relación.\n",
    "df.groupby([\"labelk\",\"Score\"]).describe().reset_index()[\"cve\"][\"count\"]\n",
    "aux=df.groupby([\"labelk\",\"Score\"]).describe().reset_index()[[\"labelk\",\"Score\"]]\n",
    "aux[\"cve_count\"]=df.groupby([\"labelk\",\"Score\"]).describe().reset_index()[\"cve\"][\"count\"]"
   ]
  },
  {
   "cell_type": "code",
   "execution_count": 582,
   "metadata": {},
   "outputs": [
    {
     "data": {
      "image/png": "[encoded data removed]",
      "text/plain": [
       "<Figure size 1080x360 with 1 Axes>"
      ]
     },
     "metadata": {
      "needs_background": "light"
     },
     "output_type": "display_data"
    }
   ],
   "source": [
    "plt.rcParams.update({'font.size': 15})\n",
    "plt.figure(figsize=(15,5))\n",
    "#Graficamos el cluster vs el score para ver como se repartieron los datos\n",
    "plt.bar(aux[aux[\"labelk\"]==0][\"Score\"],aux[aux[\"labelk\"]==0][\"cve_count\"],alpha=0.5,label=\"Grupo 2\")\n",
    "plt.bar(aux[aux[\"labelk\"]==1][\"Score\"],aux[aux[\"labelk\"]==1][\"cve_count\"],alpha=0.5,label=\"Grupo 1\")\n",
    "plt.bar(aux[aux[\"labelk\"]==2][\"Score\"],aux[aux[\"labelk\"]==2][\"cve_count\"],alpha=0.5,label=\"Grupo 0\")\n",
    "#plt.bar(df[df[\"label\"]==3][\"Etiquetas de fila\"],df[df[\"label\"]==3][\"Cuenta de cve\"],alpha=0.8,label=\"Grupo 4\")\n",
    "\n",
    "plt.ylabel(\"Número\")\n",
    "plt.xlabel(\"Score\")\n",
    "plt.legend(loc='best')\n",
    "plt.title(\"Agrupamiento vs score\")\n",
    "plt.legend()\n",
    "plt.savefig(r\"\",bbox_inches='tight') # save as png\n",
    "plt.show()"
   ]
  }
 ],
 "metadata": {
  "kernelspec": {
   "display_name": "Python 3",
   "language": "python",
   "name": "python3"
  },
  "language_info": {
   "codemirror_mode": {
    "name": "ipython",
    "version": 3
   },
   "file_extension": ".py",
   "mimetype": "text/x-python",
   "name": "python",
   "nbconvert_exporter": "python",
   "pygments_lexer": "ipython3",
   "version": "3.8.8"
  }
 },
 "nbformat": 4,
 "nbformat_minor": 4
}
