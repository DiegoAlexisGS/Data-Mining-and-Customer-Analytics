{
 "cells": [
  {
   "cell_type": "code",
   "execution_count": 1,
   "metadata": {},
   "outputs": [],
   "source": [
    "import numpy as np\n",
    "import pandas as pd\n",
    "import matplotlib.pyplot as plt\n",
    "import seaborn as sns  \n",
    "from sklearn.cluster import KMeans\n",
    "from sklearn.metrics import silhouette_samples,silhouette_score\n",
    "from sklearn.cluster import DBSCAN\n",
    "from random import sample "
   ]
  },
  {
   "cell_type": "markdown",
   "metadata": {},
   "source": [
    "# RFM PROCESS"
   ]
  },
  {
   "cell_type": "code",
   "execution_count": 16,
   "metadata": {},
   "outputs": [
    {
     "data": {
      "text/plain": [
       "0                   NaN\n",
       "1           (5.0, 23.0]\n",
       "2         (-0.001, 5.0]\n",
       "3         (71.0, 195.0]\n",
       "4         (-0.001, 5.0]\n",
       "              ...      \n",
       "666674    (-0.001, 5.0]\n",
       "666675    (-0.001, 5.0]\n",
       "666676    (-0.001, 5.0]\n",
       "666677    (-0.001, 5.0]\n",
       "666678    (-0.001, 5.0]\n",
       "Name: DíasUltimaCompra, Length: 666679, dtype: category\n",
       "Categories (5, interval[float64]): [(-0.001, 5.0] < (5.0, 23.0] < (23.0, 71.0] < (71.0, 195.0] < (195.0, 395.0]]"
      ]
     },
     "execution_count": 16,
     "metadata": {},
     "output_type": "execute_result"
    }
   ],
   "source": [
    "#INTERVALOS EN LA VARIABLE DIAS ÚLTIMA COMPRA\n",
    "pd.qcut(df[\"DíasUltimaCompra\"],5)"
   ]
  },
  {
   "cell_type": "code",
   "execution_count": 17,
   "metadata": {
    "scrolled": false
   },
   "outputs": [
    {
     "data": {
      "text/plain": [
       "0         NaN\n",
       "1           4\n",
       "2           5\n",
       "3           2\n",
       "4           5\n",
       "         ... \n",
       "666674      5\n",
       "666675      5\n",
       "666676      5\n",
       "666677      5\n",
       "666678      5\n",
       "Name: DíasUltimaCompra, Length: 666679, dtype: category\n",
       "Categories (5, int64): [5 < 4 < 3 < 2 < 1]"
      ]
     },
     "execution_count": 17,
     "metadata": {},
     "output_type": "execute_result"
    }
   ],
   "source": [
    " #INTERVALOS EN RECENCIA ETIQUEDADOS\n",
    "pd.qcut(df[\"DíasUltimaCompra\"],5,labels=[5,4,3,2,1])"
   ]
  },
  {
   "cell_type": "code",
   "execution_count": 18,
   "metadata": {},
   "outputs": [
    {
     "data": {
      "text/plain": [
       "0               (741.865, 2280.309]\n",
       "1             (6513.616, 22907.105]\n",
       "2             (6513.616, 22907.105]\n",
       "3               (741.865, 2280.309]\n",
       "4         (22907.105, 12114279.381]\n",
       "                    ...            \n",
       "666674          (-131.431, 741.865]\n",
       "666675          (741.865, 2280.309]\n",
       "666676          (-131.431, 741.865]\n",
       "666677          (741.865, 2280.309]\n",
       "666678          (741.865, 2280.309]\n",
       "Name: venta_neta, Length: 666679, dtype: category\n",
       "Categories (5, interval[float64]): [(-131.431, 741.865] < (741.865, 2280.309] < (2280.309, 6513.616] < (6513.616, 22907.105] < (22907.105, 12114279.381]]"
      ]
     },
     "execution_count": 18,
     "metadata": {},
     "output_type": "execute_result"
    }
   ],
   "source": [
    "#INTERVALOS DE LA VENTA NETA ACUMULADA\n",
    "pd.qcut(df['venta_neta'],5)"
   ]
  },
  {
   "cell_type": "code",
   "execution_count": 19,
   "metadata": {
    "scrolled": true
   },
   "outputs": [
    {
     "data": {
      "text/plain": [
       "0         2\n",
       "1         4\n",
       "2         4\n",
       "3         2\n",
       "4         5\n",
       "         ..\n",
       "666674    1\n",
       "666675    2\n",
       "666676    1\n",
       "666677    2\n",
       "666678    2\n",
       "Name: venta_neta, Length: 666679, dtype: category\n",
       "Categories (5, int64): [1 < 2 < 3 < 4 < 5]"
      ]
     },
     "execution_count": 19,
     "metadata": {},
     "output_type": "execute_result"
    }
   ],
   "source": [
    "#INTERVALOS DE LA VENTA NETA ACUMULADA ETIQUETADOS\n",
    "pd.qcut(df['venta_neta'],5,[1,2,3,4,5])"
   ]
  },
  {
   "cell_type": "code",
   "execution_count": 20,
   "metadata": {},
   "outputs": [],
   "source": [
    "#FRECUENCIA UNICOS PARA UNA MEJOR DISTRIBUCION\n",
    "days=list(range(min(df['dias_compra']),max(df['dias_compra']+1)))\n",
    "auxiliar=pd.DataFrame(days)\n",
    "auxiliar[\"etiqueta\"]=pd.cut(days,5,labels=[1,2,3,4,5])"
   ]
  },
  {
   "cell_type": "code",
   "execution_count": 21,
   "metadata": {},
   "outputs": [
    {
     "data": {
      "text/plain": [
       "[(0.606, 79.8], (0.606, 79.8], (0.606, 79.8], (0.606, 79.8], (0.606, 79.8], ..., (316.2, 395.0], (316.2, 395.0], (316.2, 395.0], (316.2, 395.0], (316.2, 395.0]]\n",
       "Length: 395\n",
       "Categories (5, interval[float64]): [(0.606, 79.8] < (79.8, 158.6] < (158.6, 237.4] < (237.4, 316.2] < (316.2, 395.0]]"
      ]
     },
     "execution_count": 21,
     "metadata": {},
     "output_type": "execute_result"
    }
   ],
   "source": [
    "#INTERVALOS FINALES\n",
    "pd.cut(days,5)"
   ]
  },
  {
   "cell_type": "code",
   "execution_count": 22,
   "metadata": {},
   "outputs": [
    {
     "data": {
      "text/html": [
       "<div>\n",
       "<style scoped>\n",
       "    .dataframe tbody tr th:only-of-type {\n",
       "        vertical-align: middle;\n",
       "    }\n",
       "\n",
       "    .dataframe tbody tr th {\n",
       "        vertical-align: top;\n",
       "    }\n",
       "\n",
       "    .dataframe thead th {\n",
       "        text-align: right;\n",
       "    }\n",
       "</style>\n",
       "<table border=\"1\" class=\"dataframe\">\n",
       "  <thead>\n",
       "    <tr style=\"text-align: right;\">\n",
       "      <th></th>\n",
       "      <th>dias</th>\n",
       "      <th>FRECUENCY</th>\n",
       "    </tr>\n",
       "  </thead>\n",
       "  <tbody>\n",
       "    <tr>\n",
       "      <th>0</th>\n",
       "      <td>1</td>\n",
       "      <td>1</td>\n",
       "    </tr>\n",
       "    <tr>\n",
       "      <th>1</th>\n",
       "      <td>2</td>\n",
       "      <td>1</td>\n",
       "    </tr>\n",
       "    <tr>\n",
       "      <th>2</th>\n",
       "      <td>3</td>\n",
       "      <td>1</td>\n",
       "    </tr>\n",
       "    <tr>\n",
       "      <th>3</th>\n",
       "      <td>4</td>\n",
       "      <td>1</td>\n",
       "    </tr>\n",
       "    <tr>\n",
       "      <th>4</th>\n",
       "      <td>5</td>\n",
       "      <td>1</td>\n",
       "    </tr>\n",
       "    <tr>\n",
       "      <th>...</th>\n",
       "      <td>...</td>\n",
       "      <td>...</td>\n",
       "    </tr>\n",
       "    <tr>\n",
       "      <th>390</th>\n",
       "      <td>391</td>\n",
       "      <td>5</td>\n",
       "    </tr>\n",
       "    <tr>\n",
       "      <th>391</th>\n",
       "      <td>392</td>\n",
       "      <td>5</td>\n",
       "    </tr>\n",
       "    <tr>\n",
       "      <th>392</th>\n",
       "      <td>393</td>\n",
       "      <td>5</td>\n",
       "    </tr>\n",
       "    <tr>\n",
       "      <th>393</th>\n",
       "      <td>394</td>\n",
       "      <td>5</td>\n",
       "    </tr>\n",
       "    <tr>\n",
       "      <th>394</th>\n",
       "      <td>395</td>\n",
       "      <td>5</td>\n",
       "    </tr>\n",
       "  </tbody>\n",
       "</table>\n",
       "<p>395 rows × 2 columns</p>\n",
       "</div>"
      ],
      "text/plain": [
       "     dias FRECUENCY\n",
       "0       1         1\n",
       "1       2         1\n",
       "2       3         1\n",
       "3       4         1\n",
       "4       5         1\n",
       "..    ...       ...\n",
       "390   391         5\n",
       "391   392         5\n",
       "392   393         5\n",
       "393   394         5\n",
       "394   395         5\n",
       "\n",
       "[395 rows x 2 columns]"
      ]
     },
     "execution_count": 22,
     "metadata": {},
     "output_type": "execute_result"
    }
   ],
   "source": [
    "auxiliar.columns=['dias','FRECUENCY']\n",
    "auxiliar"
   ]
  },
  {
   "cell_type": "code",
   "execution_count": 23,
   "metadata": {},
   "outputs": [],
   "source": [
    "df[\"RECENCY\"]=pd.qcut(df[\"DíasUltimaCompra\"],5,labels=[5,4,3,2,1]) #RECENCY\n",
    "df=pd.merge(df,auxiliar,how=\"left\",left_on='dias_compra',right_on='dias') #FREQUENCY\n",
    "df[\"MONETARY\"]=pd.qcut(df['venta_neta'],5,[1,2,3,4,5]) #MONETARY"
   ]
  },
  {
   "cell_type": "code",
   "execution_count": 26,
   "metadata": {},
   "outputs": [],
   "source": [
    "df[\"RFM\"]=df[\"RECENCY\"].astype(str)+df[\"FRECUENCY\"].astype(str)+df[\"MONETARY\"].astype(str)"
   ]
  },
  {
   "cell_type": "code",
   "execution_count": 27,
   "metadata": {},
   "outputs": [],
   "source": [
    "data=df.copy()"
   ]
  },
  {
   "cell_type": "code",
   "execution_count": 2,
   "metadata": {
    "scrolled": false
   },
   "outputs": [],
   "source": [
    "data.head(5)"
   ]
  },
  {
   "cell_type": "code",
   "execution_count": 29,
   "metadata": {},
   "outputs": [],
   "source": [
    "data.to_excel(r\"\",encoding=\"latin1\")"
   ]
  },
  {
   "cell_type": "code",
   "execution_count": 3,
   "metadata": {},
   "outputs": [],
   "source": [
    "data.shape"
   ]
  }
 ],
 "metadata": {
  "kernelspec": {
   "display_name": "Python 3",
   "language": "python",
   "name": "python3"
  },
  "language_info": {
   "codemirror_mode": {
    "name": "ipython",
    "version": 3
   },
   "file_extension": ".py",
   "mimetype": "text/x-python",
   "name": "python",
   "nbconvert_exporter": "python",
   "pygments_lexer": "ipython3",
   "version": "3.8.8"
  }
 },
 "nbformat": 4,
 "nbformat_minor": 4
}
